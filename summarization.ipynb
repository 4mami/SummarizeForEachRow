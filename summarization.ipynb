{
  "nbformat": 4,
  "nbformat_minor": 0,
  "metadata": {
    "colab": {
      "provenance": [],
      "collapsed_sections": [],
      "include_colab_link": true
    },
    "kernelspec": {
      "name": "python3",
      "display_name": "Python 3"
    },
    "accelerator": "GPU",
    "gpuClass": "standard"
  },
  "cells": [
    {
      "cell_type": "markdown",
      "metadata": {
        "id": "view-in-github",
        "colab_type": "text"
      },
      "source": [
        "<a href=\"https://colab.research.google.com/github/4mami/SummarizeForEachRow/blob/main/summarization.ipynb\" target=\"_parent\"><img src=\"https://colab.research.google.com/assets/colab-badge.svg\" alt=\"Open In Colab\"/></a>"
      ]
    },
    {
      "cell_type": "code",
      "metadata": {
        "id": "6m3gjUxF0_2M"
      },
      "source": [
        "!pip install transformers"
      ],
      "execution_count": null,
      "outputs": []
    },
    {
      "cell_type": "code",
      "source": [
        "from transformers import AutoModelWithLMHead, AutoTokenizer, set_seed\n",
        "from glob import glob\n",
        "import torch\n",
        "import tqdm\n",
        "\n",
        "set_seed(1234)\n",
        "\n",
        "device = torch.device(\"cuda:0\" if torch.cuda.is_available() else \"cpu\")\n",
        "print(f\"device: {device}\")\n",
        "\n",
        "model = AutoModelWithLMHead.from_pretrained(\"t5-large\")\n",
        "model.to(device)\n",
        "tokenizer = AutoTokenizer.from_pretrained(\"t5-large\")"
      ],
      "metadata": {
        "id": "ocSvrdUXoIxO"
      },
      "execution_count": null,
      "outputs": []
    },
    {
      "cell_type": "code",
      "source": [
        "# 1行が大体350 wordsぐらいのテキストファイルを読み込ませる\n",
        "txt_files = glob('*.txt')\n",
        "print(f\"file name: {txt_files[0]}\")\n",
        "\n",
        "# テキストファイルを1行ずつ読んでいく\n",
        "with open(txt_files[0]) as f:\n",
        "  for line in tqdm.tqdm(f):\n",
        "    line = line.rstrip()\n",
        "    # その1行をトークナイズして、inputsを得る\n",
        "    inputs = tokenizer.encode(\"summarize: \" + line, return_tensors=\"pt\")\n",
        "    inputs = inputs.to(device)\n",
        "\n",
        "    # inputsの長さを取得\n",
        "    length = len(inputs[0])\n",
        "    max_length = round(length * 0.2)\n",
        "    min_length = round(length * 0.1)\n",
        "    print(f\"max_length: {max_length}, min_length: {min_length}\")\n",
        "    \n",
        "    # 上の長さの10~20%になるようにoutputsを取得\n",
        "    outputs = model.generate(inputs, max_length=max_length, min_length=min_length, num_beams=4, early_stopping=True)\n",
        "    s = tokenizer.decode(outputs[0])\n",
        "    \n",
        "    # 出力用ファイルを開く\n",
        "    with open(\"output.txt\", \"a\") as output_f:\n",
        "      # 出力用ファイルに1行分書き込む\n",
        "      output_f.write(f\"{s}\\n\")"
      ],
      "metadata": {
        "id": "V81GX7gCfyn2"
      },
      "execution_count": null,
      "outputs": []
    }
  ]
}